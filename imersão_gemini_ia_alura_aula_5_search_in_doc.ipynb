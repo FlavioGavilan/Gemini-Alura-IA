{
  "nbformat": 4,
  "nbformat_minor": 0,
  "metadata": {
    "colab": {
      "provenance": [],
      "authorship_tag": "ABX9TyPRdLX4KYs0RbF4Ozgi0BsW",
      "include_colab_link": true
    },
    "kernelspec": {
      "name": "python3",
      "display_name": "Python 3"
    },
    "language_info": {
      "name": "python"
    }
  },
  "cells": [
    {
      "cell_type": "markdown",
      "metadata": {
        "id": "view-in-github",
        "colab_type": "text"
      },
      "source": [
        "<a href=\"https://colab.research.google.com/github/FlavioGavilan/Gemini-Alura-IA/blob/main/imers%C3%A3o_gemini_ia_alura_aula_5_search_in_doc.ipynb\" target=\"_parent\"><img src=\"https://colab.research.google.com/assets/colab-badge.svg\" alt=\"Open In Colab\"/></a>"
      ]
    },
    {
      "cell_type": "code",
      "execution_count": null,
      "metadata": {
        "id": "5rA7iiDE_2cb"
      },
      "outputs": [],
      "source": [
        "!pip install -U -q google-generativeai"
      ]
    },
    {
      "cell_type": "code",
      "source": [
        "#imports and initial configurations\n",
        "import numpy as np\n",
        "import pandas as pd\n",
        "import google.generativeai as genai\n",
        "\n",
        "GOOGLE_API_KEY = \"\"\n",
        "genai.configure(api_key=GOOGLE_API_KEY)"
      ],
      "metadata": {
        "id": "nu87JE44CA7t"
      },
      "execution_count": null,
      "outputs": []
    },
    {
      "cell_type": "code",
      "source": [
        "for m in genai.list_models():\n",
        "  if 'embedContent' in m.supported_generation_methods:\n",
        "    print(m.name)"
      ],
      "metadata": {
        "colab": {
          "base_uri": "https://localhost:8080/",
          "height": 52
        },
        "id": "blpwa8L8CsUs",
        "outputId": "5afcda89-759d-4ccb-ef64-69b4273e4cd8"
      },
      "execution_count": null,
      "outputs": [
        {
          "output_type": "stream",
          "name": "stdout",
          "text": [
            "models/embedding-001\n",
            "models/text-embedding-004\n"
          ]
        }
      ]
    },
    {
      "cell_type": "code",
      "source": [
        "# Embedding example\n",
        "title = \"A próxima geração de IA para desenvolvedores e Google Workspace\"\n",
        "sample_text = (\"Título: A p´roxima geração de IA para desenvolvedores e Google Workspace\"\n",
        "    \"\\n\"\n",
        "    \"Artigo Completo:\\n\"\n",
        "    \"\\n\"\n",
        "    \"Gemini API & Google Ai Studio: Uma maneira acessível de explorar e criar protótipos com aplicações de IA generativas\")\n",
        "embeddings = genai.embed_content(model=\"models/embedding-001\",\n",
        "                                 content=sample_text,\n",
        "                                 title=title,\n",
        "                                 task_type=\"RETRIEVAL_DOCUMENT\")\n",
        "# title parameter is optional\n",
        "print(embeddings)\n",
        "# task_type options:\n",
        "# RETRIEVAL_QUERY:Specified text is a query in a search or retrieval settings\n",
        "# RETIREVAL DOCUMENT:Specified text is a document in a search or retrieval settings\n",
        "# RETRIEVAL_SIMILARITY:Specified the given text will be used for Semantic Textual Similarity (STS)\n",
        "# CLASSIFICATION:Specifies that the embedding will be used for classification\n",
        "# CLUSTERING:Specifies that the embedding will be used for clustering"
      ],
      "metadata": {
        "colab": {
          "base_uri": "https://localhost:8080/",
          "height": 54
        },
        "id": "TN4CCZaeQPLf",
        "outputId": "4a42a0f4-890f-461e-f094-885c430fb427"
      },
      "execution_count": null,
      "outputs": [
        {
          "output_type": "stream",
          "name": "stdout",
          "text": [
            "{'embedding': [0.05283271, -0.03713115, -0.021714147, 0.018157566, 0.0665894, -0.004106438, -0.029832756, -0.021676432, 0.058920976, 0.059853062, 0.008731562, 0.0138992155, -0.04731808, -0.021422291, 0.00830958, -0.01952031, 0.027397253, -0.010759693, -0.037115622, 2.4542387e-05, 0.0065620057, 0.010019962, -0.028951189, -0.06917436, -0.016448574, 0.016560206, 0.0136248795, -0.04173032, -0.03833265, 0.030404704, -0.052916326, 0.049731847, -0.034909964, 0.016926564, -0.038055006, -0.03553579, -0.026504965, -0.04530602, -0.0030483645, -0.0034638538, 0.0084824925, -0.08723754, -0.0059242873, 0.021127699, -0.009851577, -0.02294322, 0.045661394, 0.048587523, 0.015866857, -0.056634612, 0.026921155, 0.021999458, 0.06625151, -0.042571846, -0.00497964, -0.014885598, 0.018655458, -0.02981703, 0.023384284, 0.0023721587, -0.0034620585, 0.026154868, -0.013225645, 0.053132176, 0.025529535, -0.06019109, -0.038059834, 0.0025249997, 0.009222074, 0.045943435, 0.005231084, 0.0061467956, 0.056569558, -0.0630463, -0.04426255, -0.113223225, -0.040146418, 0.039493024, -0.008680833, 0.020550234, 0.021273289, -0.08207887, -0.05136693, -0.041639227, -0.022104796, 0.03199216, -0.051622935, -0.02462097, 0.0417464, 0.0010833843, 0.010158397, -0.041453175, 0.05748171, -0.047177486, -0.002217276, 0.08520337, -0.061389215, -0.01762974, -0.008301865, -0.08212462, -0.017261913, 0.004443021, -0.05536504, 0.010185335, 0.025242431, 0.037707515, -0.014810817, 0.014653031, -0.04613037, 0.109585606, -0.0359715, -0.010405579, 0.024589507, -0.056510486, 0.040702168, -0.009824588, 0.021108838, 0.0425622, -0.0034401773, 0.047994357, 0.048564103, 0.02733874, 0.040672272, -0.0025482995, -0.044892903, 0.031570464, -0.034377053, 0.017056648, 0.060303062, 0.03541819, 0.013593204, -0.05403083, -0.029426415, 0.04987557, 0.038777296, 0.04495969, 0.01850415, -0.016482275, 0.04477736, 0.0641761, -0.0037430525, 0.04358617, -0.008793026, -0.012700008, -0.007785281, 0.08310158, -0.07064833, -0.0081414925, 0.032193836, -0.0037008112, -0.039550994, 0.010632502, -0.08364024, 0.057445265, 0.04608511, 0.018011257, -0.03615994, 0.06197153, 0.02393312, 0.012889189, 0.03853747, -0.007048546, -0.0011690569, 0.0074322354, -0.021894865, -0.017044408, -0.0116886785, 0.008293824, 0.02036611, 0.04189852, 0.0007289195, 0.017938236, -0.038639303, -0.057329398, -0.009783207, -0.028609272, 0.00121, -0.0048701847, -0.04385526, 0.018651461, -0.038462173, -0.060879763, 0.03635598, 0.026175221, 0.0058362815, -0.025028856, 0.04801012, -0.02324403, -0.07849576, 0.03903977, -0.0037412865, -0.022920823, -0.017412286, 0.011823252, -0.027762271, 0.036443487, 0.021280013, 0.025514094, 0.0058344346, -0.02240625, -0.002215631, 0.06978032, 0.036164355, 0.006872438, -0.0006990169, 0.042693805, 0.08837784, -0.016549649, -0.03313605, 0.031413198, -0.039225787, 0.0016378503, 0.023778638, 0.04082887, 0.026380721, -0.019196393, -0.001300546, -0.0060590226, -0.027607705, -0.04283847, -0.021807821, -0.00018738717, -0.031418633, -0.015487484, -0.029779749, 0.06694573, -0.05870902, 0.06074716, 0.04264006, -0.0757174, 0.014824218, 0.065382436, 0.06643885, -0.0028099758, 0.04571709, 0.016306385, 0.0090976795, 0.013411116, 0.02964451, 0.050925974, -0.029958937, 0.06135574, 0.043958735, 0.03673777, -0.057376105, 0.0011010966, 0.010644371, 0.054542698, -0.0017937677, 0.036185313, -0.01221619, -0.04763083, -0.046803728, 0.06730924, -0.021350913, -9.357349e-05, -0.064898744, -0.06198609, 0.06247121, 0.002131524, 0.07103217, -0.04385612, 0.012254794, 0.0002770777, 0.00056399754, -0.055568594, 0.02188932, 0.038618915, -0.025010208, 0.04162971, -0.01642756, -0.05865387, 0.0556881, 0.059334755, 0.0009326762, 0.030703269, 0.00035373034, 0.033578906, 0.062266726, -0.08252571, 0.0056242184, 0.046546973, 0.008929139, -0.06813966, -0.053171784, -0.0031165606, -0.013242903, -0.053616293, -0.012571237, -0.06069042, -0.07425415, 0.036085684, -0.0018163061, 0.02462372, -0.05398657, 0.0066975327, -0.038772747, 0.03765454, 0.048328366, -0.028455824, -0.019536193, -0.07023652, -0.028867671, -0.07382488, -0.01341536, -0.03745142, -0.009327238, -0.055029634, 0.05379899, 0.04243026, 0.011899361, -0.035010383, -0.006305257, 0.015895829, 0.084724635, 0.049393956, -0.03569073, 0.0057837996, -0.011396009, 0.0569218, -0.0015808371, 0.0072432854, -0.0072124824, -0.0004576437, -0.023005988, 0.04324917, -0.033929687, -0.0024503532, -0.011180448, 0.02566073, -0.009809791, 0.000411509, -0.01463419, 0.040158823, 0.061643768, 0.0013361324, -0.06085151, 0.0024210992, -0.01721345, -0.03770653, -0.008550944, -0.014765968, 0.00086804293, -0.043362577, 0.030883553, 0.010660081, -0.10039804, -0.014576831, 0.062008172, 0.014616387, 0.002512673, 0.053727124, -0.02217964, -0.029087856, -0.0070071067, -0.017616294, 0.033956643, 0.018263482, 0.068646975, -0.030821143, -0.007420071, 0.047147553, -0.011748318, 0.011618652, 0.019230098, 0.056108676, 0.013460663, 0.0015842578, -0.0016648411, 0.020765971, 0.01806757, -0.044694565, 0.01580043, -0.014382993, 0.01740145, -0.0058596297, -0.031373985, -0.06166394, -0.0069330274, 0.028405216, -0.025680937, -0.05631346, 0.040970422, 0.052521247, -0.017370922, 0.0037311828, 0.035731863, 0.05854641, 0.0038915102, 0.049982134, 0.018845856, 0.0040945425, 0.0966584, 0.024197008, 0.027095087, 0.015460687, -0.01001107, -0.032879382, 0.03397474, -0.016186569, -0.0089754965, -0.041020907, -0.024929347, -0.018163323, -0.024331065, -0.0005405191, -0.034790646, -0.02560178, -0.049513187, -0.049979806, 0.023919953, 0.005189716, 0.050527964, -0.06586945, -0.05438737, -0.016365385, 0.008457117, -0.015350916, -0.009673622, -0.016849771, -0.014066558, 0.01362538, 0.034606468, -0.035899963, -0.050516378, -0.0027865488, 0.0053620744, -0.0532861, 0.0069908653, 0.018903779, 0.014127517, 0.018156609, 0.0075986176, 0.010457564, -0.02581492, -0.038310196, 0.00070447143, 0.0031274448, -0.010716301, 0.021531984, 0.034046948, -0.020293538, -0.0049544196, 0.00024740282, -0.06450215, -0.056219913, -0.0019304366, 0.011897592, 0.04793688, -0.054858394, 0.0159061, -0.04751324, -0.0362162, -0.041712712, -0.026483813, 0.016118065, 0.022745218, 0.01958215, -0.009559379, 0.010211511, 0.014174624, -0.03337955, -0.012470077, -0.022258835, 0.0508383, -0.0017441699, -0.0033835415, -0.001850938, 0.012571869, 0.024336504, 0.026138803, -0.08691541, 0.040612034, -0.017142389, 0.016558046, 0.016260142, -0.046254694, 0.04197598, -0.028566942, 0.011660352, -0.024503004, 0.021504136, 0.024396123, -0.017445728, -0.015079186, -0.047559492, 0.023628555, 0.0019242096, 0.0071495217, 0.017444273, 0.023951802, 0.029103491, -0.048516527, -0.05686311, -0.015409784, -0.015922334, -0.03714401, 0.009987476, 0.040074684, 0.023049451, -0.0068706754, -0.024820436, -0.019806964, 0.028738353, 0.048894648, -0.035381977, 0.020480245, -0.015894827, 0.0006535367, -0.040255163, -0.017900513, -0.017702406, 0.008840864, -0.034259688, 0.08584837, -0.031255204, -0.0071320985, 0.033694606, 0.025342388, -0.00727427, 0.07905108, 0.03535304, -0.057475325, 0.005021446, 0.017481906, -0.049590323, 0.012847071, -0.007564235, 0.0024607512, 0.027457627, -0.01793686, 0.06460631, -0.0097041065, -0.03833761, 0.017024053, 0.012029523, 0.049883604, -0.012283516, -0.030465366, 0.015589891, 0.002796813, -0.06726316, 0.034548394, 0.016224796, -0.04133068, -0.008676191, -0.005204021, -0.060660657, 0.018433664, -0.015274581, -0.011212746, 0.002150254, -0.004802082, 0.02477433, 0.0360513, -0.04476872, 0.0036600083, -0.018042596, 0.04006587, 0.018568346, 0.025969785, -0.0021931222, -0.017766919, 0.0014156098, 0.057835896, -0.0018825576, -0.015512068, -0.010395706, 0.032018565, -0.027854793, 0.003237748, 0.0061200727, 0.017764408, 0.010192825, 0.04912197, -0.010390231, -0.033096813, -0.019339222, -0.046274338, 0.041202396, 0.04488164, -0.00489105, -0.029653097, 0.04194765, -0.036732133, -0.0008572033, 0.010992901, 0.031833235, 0.051872157, 0.025062341, -0.051157508, 0.063688025, 0.0072972034, 0.019415006, 0.025227074, -0.0069203796, 0.02676347, -0.0136675155, 0.0254745, 0.057637565, -0.029068664, -0.039985474, 0.051557332, -0.011595518, -0.015930558, 0.01104528, -0.008546999, 0.01355531, 0.016486019, -0.007907162, 0.010613754, -0.090711154, 0.014395239, -0.039346088, -0.049305383, -0.024210272, 0.03279738, 0.02214256, -0.02531347, -0.014203812, 0.043012418, 0.03801951, 0.025248967, 0.035159983, 0.027310975, 0.02413727, -0.06258712, 0.013900193, 0.054424986, 0.049673855, 0.06151702, 0.058350228, 0.010784657, -0.04464694, -0.05521126, -0.0035255428, 0.016426904, 0.061936803, -0.014444449, -0.03923753, -0.040369507, -0.0051637483, -0.013433872, -0.03231093, -0.036991037, 0.008005695, -0.008407658, -0.07030954, -0.059970982, -0.0018329592, 0.0023292887, 0.009894979, 0.006291904, 0.0034894955, 0.041353147, 0.0067737014, -0.06565895, -0.056207612, 0.017082473, -0.026382891, -0.06312497, 0.012814784, 0.0022264984, -0.009203926, -0.055587243, -0.03633939, -0.06017415, -0.08441726, -0.043139353, 0.03524487, -0.04555344, 0.048195317, 0.028977057, -0.015743265, 0.025863959, 0.05678324, 0.00284439, -0.0047479793, -0.0017843741, -0.02449607, 0.0034476952, -0.036490098, 0.0020880138, 0.003212518, -0.018324345, 0.015856612, 0.043553524, 0.0065294737, -0.008689482, -0.022921294, -0.01899585, -0.029282648, -0.00042116662, -0.01936147, -0.014868734, -0.043137297, -0.034445185, -0.060269516, 0.05952784, 0.048786666, -0.018932965, -0.009988494, -0.018652208, -0.023702849, -0.0029387062, -0.012385913, -0.038438823, -0.0014622435, -0.01900118, 0.05058499, 0.06113829, -0.042641923, -0.091978095, 0.019872999, -0.04064972, 0.011857512, -0.035784103, -0.00033083977, -0.01464757, 0.04356923, 0.0030123484, -0.008197912, 0.005877116, -0.04113858, -0.079214364, 0.018949293, -0.02723244, 0.015820103, -0.033335548, 0.0075789965, 0.06686603, -0.003677257, -0.049136564, -0.0014953151, -0.013873907, 0.010569947, -0.03646673, 0.057659104, -0.04562962, -0.075464234, -0.0333265, -0.019044561, -0.011506408, 0.059086096, 0.026321562, -0.034614988, 0.0033207554, -0.011738542, -0.01587208, -0.07274606, -0.034599055, -0.028757596, -0.004835369, 0.036843866, -0.004282142, -0.006362059, 0.004047623, -0.034975488, 0.006680158, 0.012764852, -0.041123636, -0.04097529, 0.0109860785, -0.029605012, 0.013909089, 0.09527328, -0.05492291, 0.010799434]}\n"
          ]
        }
      ]
    },
    {
      "cell_type": "code",
      "source": [
        "#List of document that will be used for search\n",
        "DOCUMENT1 = {\n",
        "    \"title\": \"Operating the Climate Control System\",\n",
        "    \"content\": \"Your Googlecar has a climate control system that allows you to adjust the temperature and airflow in the car. To operate the climate control system, use the buttons and knobs located on the center console.  Temperature: The temperature knob controls the temperature inside the car. Turn the knob clockwise to increase the temperature or counterclockwise to decrease the temperature. Airflow: The airflow knob controls the amount of airflow inside the car. Turn the knob clockwise to increase the airflow or counterclockwise to decrease the airflow. Fan speed: The fan speed knob controls the speed of the fan. Turn the knob clockwise to increase the fan speed or counterclockwise to decrease the fan speed. Mode: The mode button allows you to select the desired mode. The available modes are: Auto: The car will automatically adjust the temperature and airflow to maintain a comfortable level. Cool: The car will blow cool air into the car. Heat: The car will blow warm air into the car. Defrost: The car will blow warm air onto the windshield to defrost it.\"}\n",
        "DOCUMENT2 = {\n",
        "    \"title\": \"Touchscreen\",\n",
        "    \"content\": \"Your Googlecar has a large touchscreen display that provides access to a variety of features, including navigation, entertainment, and climate control. To use the touchscreen display, simply touch the desired icon.  For example, you can touch the \\\"Navigation\\\" icon to get directions to your destination or touch the \\\"Music\\\" icon to play your favorite songs.\"}\n",
        "DOCUMENT3 = {\n",
        "    \"title\": \"Shifting Gears\",\n",
        "    \"content\": \"Your Googlecar has an automatic transmission. To shift gears, simply move the shift lever to the desired position.  Park: This position is used when you are parked. The wheels are locked and the car cannot move. Reverse: This position is used to back up. Neutral: This position is used when you are stopped at a light or in traffic. The car is not in gear and will not move unless you press the gas pedal. Drive: This position is used to drive forward. Low: This position is used for driving in snow or other slippery conditions.\"}\n",
        "\n",
        "documents = [DOCUMENT1, DOCUMENT2, DOCUMENT3]"
      ],
      "metadata": {
        "id": "zGbEOi2_TYFm"
      },
      "execution_count": null,
      "outputs": []
    },
    {
      "cell_type": "code",
      "source": [
        "df = pd.DataFrame(documents)\n",
        "print(df) #print without formatted columns\n",
        "df.columns = [\"Titulo\", \"Conteudo\"]\n",
        "print(df) #print with formatted columns"
      ],
      "metadata": {
        "colab": {
          "base_uri": "https://localhost:8080/"
        },
        "id": "o9oUfq4RUrOI",
        "outputId": "62a07bce-3224-4713-99a6-8e3ded92ff5d"
      },
      "execution_count": null,
      "outputs": [
        {
          "output_type": "stream",
          "name": "stdout",
          "text": [
            "                                  title  \\\n",
            "0  Operating the Climate Control System   \n",
            "1                           Touchscreen   \n",
            "2                        Shifting Gears   \n",
            "\n",
            "                                             content  \n",
            "0  Your Googlecar has a climate control system th...  \n",
            "1  Your Googlecar has a large touchscreen display...  \n",
            "2  Your Googlecar has an automatic transmission. ...  \n",
            "                                 Titulo  \\\n",
            "0  Operating the Climate Control System   \n",
            "1                           Touchscreen   \n",
            "2                        Shifting Gears   \n",
            "\n",
            "                                            Conteudo  \n",
            "0  Your Googlecar has a climate control system th...  \n",
            "1  Your Googlecar has a large touchscreen display...  \n",
            "2  Your Googlecar has an automatic transmission. ...  \n"
          ]
        }
      ]
    },
    {
      "cell_type": "code",
      "source": [
        "model=\"models/embedding-001\""
      ],
      "metadata": {
        "id": "GSpoBsMWVp4i"
      },
      "execution_count": null,
      "outputs": []
    },
    {
      "cell_type": "code",
      "source": [
        "def embed_fn(title, text):\n",
        "  return genai.embed_content(model=model,\n",
        "                                 content=text,\n",
        "                                 title=title,\n",
        "                                 task_type=\"RETRIEVAL_DOCUMENT\")[\"embedding\"]"
      ],
      "metadata": {
        "id": "0Kmd5RexWSMX"
      },
      "execution_count": null,
      "outputs": []
    },
    {
      "cell_type": "code",
      "source": [
        "df[\"Embeddings\"] = df.apply(lambda row: embed_fn(row[\"Titulo\"], row[\"Conteudo\"]), axis=1)\n",
        "print(df)"
      ],
      "metadata": {
        "colab": {
          "base_uri": "https://localhost:8080/",
          "height": 347
        },
        "id": "pKZDeWAdgv1m",
        "outputId": "8c2efdfa-751e-40aa-9f57-c79b43cf45ca"
      },
      "execution_count": null,
      "outputs": [
        {
          "output_type": "stream",
          "name": "stdout",
          "text": [
            "                                 Titulo  \\\n",
            "0  Operating the Climate Control System   \n",
            "1                           Touchscreen   \n",
            "2                        Shifting Gears   \n",
            "\n",
            "                                            Conteudo  \\\n",
            "0  Your Googlecar has a climate control system th...   \n",
            "1  Your Googlecar has a large touchscreen display...   \n",
            "2  Your Googlecar has an automatic transmission. ...   \n",
            "\n",
            "                                          embeddings  \\\n",
            "0  [-0.033361107, -0.021217084, -0.049581926, -0....   \n",
            "1  [0.009660736, -0.030662702, -0.017281422, -0.0...   \n",
            "2  [-0.04270796, -0.007160868, -0.03242516, -0.02...   \n",
            "\n",
            "                                          Embeddings  \n",
            "0  [-0.033361107, -0.021217084, -0.049581926, -0....  \n",
            "1  [0.009660736, -0.030662702, -0.017281422, -0.0...  \n",
            "2  [-0.04270796, -0.007160868, -0.03242516, -0.02...  \n"
          ]
        }
      ]
    },
    {
      "cell_type": "code",
      "source": [
        "def gerar_e_buscar_consulta(consulta, base, modelo):\n",
        "  embedding_da_consulta = genai.embed_content(model=model,\n",
        "                                 content=consulta,\n",
        "                                 task_type=\"RETRIEVAL_QUERY\")[\"embedding\"]\n",
        "\n",
        "  produtos_escalares = np.dot(np.stack(df[\"Embeddings\"]), embedding_da_consulta)\n",
        "\n",
        "  indice = np.argmax(produtos_escalares)\n",
        "  return df.iloc[indice][\"Conteudo\"]"
      ],
      "metadata": {
        "id": "V7zEYatDh91s"
      },
      "execution_count": null,
      "outputs": []
    },
    {
      "cell_type": "code",
      "source": [
        "consulta = \"Como se troca a marcha em um carro do Google?\"\n",
        "base = df\n",
        "#model = \"models/embedding-001\"\n",
        "answer = gerar_e_buscar_consulta(consulta, base, model)\n",
        "print(answer)"
      ],
      "metadata": {
        "colab": {
          "base_uri": "https://localhost:8080/",
          "height": 54
        },
        "id": "-KS0HbEZtP26",
        "outputId": "689e9ee6-93fd-4998-ef29-6e795ea286c9"
      },
      "execution_count": null,
      "outputs": [
        {
          "output_type": "stream",
          "name": "stdout",
          "text": [
            "Your Googlecar has a large touchscreen display that provides access to a variety of features, including navigation, entertainment, and climate control. To use the touchscreen display, simply touch the desired icon.  For example, you can touch the \"Navigation\" icon to get directions to your destination or touch the \"Music\" icon to play your favorite songs.\n"
          ]
        }
      ]
    },
    {
      "cell_type": "code",
      "source": [
        "prompt = f\"Reescreva esse texto de um forma mais descontraída, sem adicionar informações que não façam parte do texto: {answer}\"\n",
        "generative_config = {\n",
        "    \"temperature\":0.5,\n",
        "    \"candidate_count\":1\n",
        "}\n",
        "model_2 = genai.GenerativeModel(\"gemini-1.0-pro\", generation_config=generative_config)\n",
        "response = model_2.generate_content(prompt)\n",
        "print(response.text)"
      ],
      "metadata": {
        "colab": {
          "base_uri": "https://localhost:8080/",
          "height": 54
        },
        "id": "4eWuIK-3xjMy",
        "outputId": "c9a5f2c3-4f73-4b41-9497-d38d95dad9a0"
      },
      "execution_count": null,
      "outputs": [
        {
          "output_type": "stream",
          "name": "stdout",
          "text": [
            "Seu carango do Google tem uma telona sensível ao toque que te dá acesso a um monte de coisa legal, tipo GPS, músicas e até controle do ar-condicionado. Pra usar, é só dar um toque no ícone que você quer. Por exemplo, toca no \"GPS\" pra saber como chegar no rolê ou no \"Música\" pra dar play nas suas paradas favoritas.\n"
          ]
        }
      ]
    }
  ]
}