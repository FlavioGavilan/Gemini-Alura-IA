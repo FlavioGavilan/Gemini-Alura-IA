{
  "nbformat": 4,
  "nbformat_minor": 0,
  "metadata": {
    "colab": {
      "provenance": [],
      "authorship_tag": "ABX9TyPVDn4EjxPnRjSoemf9dxFu",
      "include_colab_link": true
    },
    "kernelspec": {
      "name": "python3",
      "display_name": "Python 3"
    },
    "language_info": {
      "name": "python"
    }
  },
  "cells": [
    {
      "cell_type": "markdown",
      "metadata": {
        "id": "view-in-github",
        "colab_type": "text"
      },
      "source": [
        "<a href=\"https://colab.research.google.com/github/FlavioGavilan/Gemini-Alura-IA/blob/main/imers%C3%A3o_alura_gemini_ia_aula_05_ia_search.ipynb\" target=\"_parent\"><img src=\"https://colab.research.google.com/assets/colab-badge.svg\" alt=\"Open In Colab\"/></a>"
      ]
    },
    {
      "cell_type": "code",
      "execution_count": null,
      "metadata": {
        "id": "MxG_C8r7NLLH"
      },
      "outputs": [],
      "source": [
        "!pip install -q -U google-generativeai"
      ]
    },
    {
      "cell_type": "code",
      "source": [
        "import google.generativeai as genai\n",
        "\n",
        "# Ctrl + Enter = execute code\n",
        "# Shift + Enter = execute code and create new tab for code below\n",
        "\n",
        "GOOGLE_API_KEY = ''\n",
        "genai.configure(api_key=GOOGLE_API_KEY)"
      ],
      "metadata": {
        "id": "i4pvct3JN-Et"
      },
      "execution_count": null,
      "outputs": []
    },
    {
      "cell_type": "code",
      "source": [
        "# anotar aqui o que é este list_models()\n",
        "for m in genai.list_models():\n",
        "  # anotar aqui o que é o 'supported_generation_methods\n",
        "  if 'generateContent' in m.supported_generation_methods:\n",
        "    print(m.name)"
      ],
      "metadata": {
        "id": "UlNZTC2tOujR"
      },
      "execution_count": null,
      "outputs": []
    },
    {
      "cell_type": "code",
      "source": [
        "generation_config = {\n",
        "    \"candidate_count\" : 1,\n",
        "    \"temperature\" : 0.5\n",
        "    #\"top_p\" : (between 0 and 1),\n",
        "    #\"top_k\" : (between 0 and 1)\n",
        "}"
      ],
      "metadata": {
        "id": "krNgYhIznN_b"
      },
      "execution_count": null,
      "outputs": []
    },
    {
      "cell_type": "code",
      "source": [
        "safety_settings = {\n",
        "    # search config of content of : harassment, hate, sexually_explicit,\n",
        "    # dangerous\n",
        "    # options are : BLOCK_NONE, BLOCK_FEW, BLOCK_SOME, BLOCK_MOST\n",
        "    \"HARASSMENT\" : \"BLOCK_NONE\",\n",
        "    \"HATE\" : \"BLOCK_NONE\",\n",
        "    \"SEXUAL\" : \"BLOCK_NONE\",\n",
        "    \"DANGEROUS\" : \"BLOCK_NONE\"\n",
        "}"
      ],
      "metadata": {
        "id": "sf9F8hDwuViC"
      },
      "execution_count": null,
      "outputs": []
    },
    {
      "cell_type": "code",
      "source": [
        "# model = model more estable in 10.05.2024 (gemini-1.0-pro)\n",
        "# generation_config(parameter_name) = <dictionary_name(obj in js)>,\n",
        "#   in this case is \"generation_config\"\n",
        "# safety_settings(parameter_name) = <dictionary_name (obj in js)>,\n",
        "#   in this case \"safety_settings\"\n",
        "model = genai.GenerativeModel(model_name=\"gemini-1.0-pro\",\n",
        "                              generation_config=generation_config,\n",
        "                              safety_settings=safety_settings)"
      ],
      "metadata": {
        "id": "vhSQufWuvq9_"
      },
      "execution_count": null,
      "outputs": []
    },
    {
      "cell_type": "code",
      "source": [
        "sugestion = \"Give me some suggestions about topics to learn about \"\n",
        "# topic = \"Data Structure\"\n",
        "# response = model.generate_content(sugestion + topic)\n",
        "# print(response.text)"
      ],
      "metadata": {
        "id": "K9L-D0iv9oW5"
      },
      "execution_count": null,
      "outputs": []
    },
    {
      "cell_type": "code",
      "source": [
        "chat = model.start_chat(history=[])"
      ],
      "metadata": {
        "id": "UyexmQLrC1wy"
      },
      "execution_count": null,
      "outputs": []
    },
    {
      "cell_type": "code",
      "source": [
        "prompt = input(\"Hello, can i help you with something ? \")\n",
        "while prompt != \"exit\":\n",
        "  response = chat.send_message(prompt)\n",
        "  print(\"Answer: \", response.text, \"\\n\")\n",
        "  prompt = input(\"Can I help you with something else ? \")"
      ],
      "metadata": {
        "id": "HpkrcWePDeH8"
      },
      "execution_count": null,
      "outputs": []
    },
    {
      "cell_type": "code",
      "source": [
        "# improving UI\n",
        "# code available in :\n",
        "# https://ai.google.dev/gemini-api/docs/get-started/python?hl=pt-br#import_packages\n",
        "\n",
        "import pathlib\n",
        "import textwrap\n",
        "\n",
        "import google.generativeai as genai\n",
        "\n",
        "from IPython.display import display\n",
        "from IPython.display import Markdown\n",
        "\n",
        "\n",
        "def to_markdown(text):\n",
        "  text = text.replace('•', '  *')\n",
        "  return Markdown(textwrap.indent(text, '> ', predicate=lambda _: True))\n",
        "\n",
        "# print history\n",
        "for message in chat.history:\n",
        "  display(to_markdown(f'** {message.role} **: {message.parts[0].text}'))\n",
        "  print('--------------------------------------------------------------')\n",
        "\n",
        "# chat.history\n",
        "# show all question made until now and the answers given"
      ],
      "metadata": {
        "id": "oAFzUGBmJ3TW"
      },
      "execution_count": null,
      "outputs": []
    }
  ]
}