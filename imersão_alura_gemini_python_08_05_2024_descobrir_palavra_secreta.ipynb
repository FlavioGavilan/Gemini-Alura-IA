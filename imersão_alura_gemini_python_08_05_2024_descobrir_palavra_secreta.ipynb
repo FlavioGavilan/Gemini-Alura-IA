{
  "nbformat": 4,
  "nbformat_minor": 0,
  "metadata": {
    "colab": {
      "provenance": [],
      "authorship_tag": "ABX9TyOdJTG0gXa2E5Oo3lmRNuro",
      "include_colab_link": true
    },
    "kernelspec": {
      "name": "python3",
      "display_name": "Python 3"
    },
    "language_info": {
      "name": "python"
    }
  },
  "cells": [
    {
      "cell_type": "markdown",
      "metadata": {
        "id": "view-in-github",
        "colab_type": "text"
      },
      "source": [
        "<a href=\"https://colab.research.google.com/github/FlavioGavilan/Gemini-Alura-IA/blob/main/imers%C3%A3o_alura_gemini_python_08_05_2024_descobrir_palavra_secreta.ipynb\" target=\"_parent\"><img src=\"https://colab.research.google.com/assets/colab-badge.svg\" alt=\"Open In Colab\"/></a>"
      ]
    },
    {
      "cell_type": "code",
      "execution_count": null,
      "metadata": {
        "id": "vlYLBzpTerz-"
      },
      "outputs": [],
      "source": [
        "import requests\n",
        "import random\n",
        "\n",
        "url = 'https://raw.githubusercontent.com/guilhermeonrails/api-imersao-ia/main/words.json'\n",
        "response = requests.get(url)\n",
        "print(response)\n",
        "\n",
        "data = response.json()\n",
        "length = len(data) #length\n",
        "print(length)\n",
        "\n",
        "typeOf = type(data) #type of variable\n",
        "print(typeOf)\n",
        "\n",
        "for index, element in enumerate(data):\n",
        "  if(element['palavra'] == 'java'):\n",
        "    print(element)\n",
        "    print(data[len(data) -1])\n",
        "    print(data[index])\n",
        "random.choice(data) #get a random data from the list retrieved from API"
      ]
    },
    {
      "cell_type": "code",
      "source": [
        "import random\n",
        "valor_secreto = random.choice(data)\n",
        "palavra = valor_secreto['palavra']\n",
        "dica = valor_secreto['dica']\n",
        "print(valor_secreto)\n",
        "print(palavra)\n",
        "print(dica)"
      ],
      "metadata": {
        "id": "ze6colgTobng"
      },
      "execution_count": null,
      "outputs": []
    },
    {
      "cell_type": "code",
      "source": [
        "import requests\n",
        "import random\n",
        "\n",
        "url = 'https://raw.githubusercontent.com/guilhermeonrails/api-imersao-ia/main/words.json'\n",
        "response = requests.get(url)\n",
        "#print(response)\n",
        "data = response.json()\n",
        "\n",
        "valor_secreto2 = random.choice(data);\n",
        "palavra2 = valor_secreto2['palavra']\n",
        "dica2 = valor_secreto2['dica']\n",
        "print(f'tamanho da palavra secreta: {len(palavra2)},  dica:  {dica2}')\n",
        "# print(palavra2)\n",
        "answer = input('Digite o valor da sua resposta: ')\n",
        "\n",
        "if(answer == palavra2):\n",
        "  msg = 'Você acertou.'\n",
        "else:\n",
        "  msg = f'Você errou. A resposta era {palavra2}'\n",
        "print(msg)"
      ],
      "metadata": {
        "colab": {
          "base_uri": "https://localhost:8080/"
        },
        "id": "CSBEiZXGqfWX",
        "outputId": "fc2834f9-858a-496f-de27-ddc8ce9d519f"
      },
      "execution_count": null,
      "outputs": [
        {
          "output_type": "stream",
          "name": "stdout",
          "text": [
            "tamanho da palavra secreta: 5,  dica:  utilizar e administrar sistemas operacionais de código aberto.\n",
            "Digite o valor da sua resposta: windows\n",
            "Você errou. A resposta era linux\n"
          ]
        }
      ]
    },
    {
      "cell_type": "code",
      "source": [],
      "metadata": {
        "id": "u3yDN4L7rCoI"
      },
      "execution_count": null,
      "outputs": []
    }
  ]
}